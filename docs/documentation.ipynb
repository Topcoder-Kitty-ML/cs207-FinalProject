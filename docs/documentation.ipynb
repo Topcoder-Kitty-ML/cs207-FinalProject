{
 "cells": [
  {
   "cell_type": "markdown",
   "metadata": {},
   "source": [
    "# CS207 Systems Development Final Project: \n",
    "\n",
    "## Documentation for Automatic Differentiation package: genericdiff\n",
    "\n",
    "### TopCoderKitty-ML\n",
    "\n",
    "**Collaborators**: Tamilyn Chen, Kar-Tong Tan and Mark Lock\n",
    "\n",
    "<hr style=\"height:2pt\">"
   ]
  },
  {
   "cell_type": "markdown",
   "metadata": {},
   "source": [
    "Methods in GenericDiff Class:\n",
    "\n",
    "```GenericDiff.add(self, other)```\n",
    "Returns GenericDiff object implementing \n",
    "\n",
    "```GenericDiff.radd(self, other)```\n",
    "Returns GenericDiff object with addition\n",
    "\n",
    "```GenericDiff.sub(self, other)```\n",
    "Returns GenericDiff object with subtraction\n",
    "\n",
    "```GenericDiff.rsub(self, other)```\n",
    "Returns GenericDiff object with subtraction\n",
    "\n",
    "```GenericDiff.mul(self, other)```\n",
    "Returns GenericDiff object with multiplication\n",
    "\n",
    "```GenericDiff.rmul(self, other)```\n",
    "\n",
    "```GenericDiff.div(self, other)```\n",
    "\n",
    "```GenericDiff.rdiv(self, other)```\n",
    "\n",
    "```GenericDiff.pow(self, other)```\n",
    "\n",
    "```GenericDiff.rpow(self, other)```\n",
    "\n",
    "```GenericDiff.neg(self, other)```\n",
    "Returns GenericDiff object with the negation of a value and derivative value\n",
    "\n",
    "```GenericDiff.lt(self, other)```\n",
    "Returns a Boolean stating whether one derivative value is less than another derivative value.\n",
    "\n",
    "```GenericDiff.le(self, other)```\n",
    "Returns a Boolean stating whether one derivative value is less than or equal another derivative value.\n",
    "\n",
    "```GenericDiff.ge(self, other)```\n",
    "Returns a Boolean stating whether one derivative value is greater than or equal another derivative value.\n",
    "\n",
    "```GenericDiff.ne(self, other)```\n",
    "Returns a boolean stating whether two derivative values are not equal.\n",
    "\n",
    "```GenericDiff.eq(self, other)```\n",
    "Returns a boolean stating whether two derivative values are not equal.\n"
   ]
  },
  {
   "cell_type": "markdown",
   "metadata": {},
   "source": [
    "Methods in JacobianProduct Class:\n",
    "\n",
    "```JacobianProduct.partial_ders(self, wrt, inputs, fun_idx=-1)```\n",
    "skdjfs\n",
    "\n",
    "```JacobianProduct.partial_vals(self, wrt, inputs, fun_idx=-1)```\n",
    "sdfssf\n",
    "\n",
    "```JacobianProduct.jacobian_product(self, inputs, fun_idx=-1)```\n",
    "Returns list of jacobian products\n"
   ]
  },
  {
   "cell_type": "code",
   "execution_count": null,
   "metadata": {},
   "outputs": [],
   "source": []
  }
 ],
 "metadata": {
  "kernelspec": {
   "display_name": "Python 3",
   "language": "python",
   "name": "python3"
  },
  "language_info": {
   "codemirror_mode": {
    "name": "ipython",
    "version": 3
   },
   "file_extension": ".py",
   "mimetype": "text/x-python",
   "name": "python",
   "nbconvert_exporter": "python",
   "pygments_lexer": "ipython3",
   "version": "3.7.3"
  }
 },
 "nbformat": 4,
 "nbformat_minor": 2
}
