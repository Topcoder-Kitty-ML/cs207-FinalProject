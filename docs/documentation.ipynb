{
 "cells": [
  {
   "cell_type": "markdown",
   "metadata": {},
   "source": [
    "# CS207 Systems Development Final Project: \n",
    "\n",
    "## Documentation for Automatic Differentiation package: genericdiff\n",
    "\n",
    "### TopCoderKitty-ML\n",
    "\n",
    "**Collaborators**: Tamilyn Chen, Kar-Tong Tan and Mark Lock\n",
    "\n",
    "<hr style=\"height:2pt\">"
   ]
  },
  {
   "cell_type": "markdown",
   "metadata": {},
   "source": [
    "Methods in GenericDiff Class:\n",
    "\n",
    "```GenericDiff.__add__(self, other)```\n",
    "Returns GenericDiff object implementing addition\n",
    "\n",
    "```GenericDiff.__radd__(self, other)```\n",
    "Returns GenericDiff object with addition to insure communicativity\n",
    "\n",
    "```GenericDiff.__sub__(self, other)```\n",
    "Returns GenericDiff object with subtraction\n",
    "\n",
    "```GenericDiff.__rsub__(self, other)```\n",
    "Returns GenericDiff object with subtraction\n",
    "\n",
    "```GenericDiff.__mul__(self, other)```\n",
    "Returns GenericDiff object with multiplication\n",
    "\n",
    "```GenericDiff.__rmul__(self, other)```\n",
    "\n",
    "```GenericDiff.__truediv__(self, other)```\n",
    "\n",
    "```GenericDiff.__rtruediv__(self, other)```\n",
    "\n",
    "```GenericDiff.__pow__(self, other)```\n",
    "\n",
    "```GenericDiff.__rpow__(self, other)```\n",
    "\n",
    "```GenericDiff.__neg__(self, other)```\n",
    "Returns GenericDiff object with the unary negation of a value and derivative value\n",
    "\n",
    "```GenericDiff.__gt__(self, other)```\n",
    "Returns a Boolean stating whether one derivative value is greater than another derivative value.\n",
    "\n",
    "```GenericDiff.__lt__(self, other)```\n",
    "Returns a Boolean stating whether one derivative value is less than another derivative value.\n",
    "\n",
    "```GenericDiff.__le__(self, other)```\n",
    "Returns a Boolean stating whether one derivative value is less than or equal another derivative value.\n",
    "\n",
    "```GenericDiff.__ge__(self, other)```\n",
    "Returns a Boolean stating whether one derivative value is greater than or equal another derivative value.\n",
    "\n",
    "```GenericDiff.__ne__(self, other)```\n",
    "Returns a boolean stating whether two derivative values are not equal.\n",
    "\n",
    "```GenericDiff.__eq__(self, other)```\n",
    "Returns a boolean stating whether two derivative values are equal.\n"
   ]
  },
  {
   "cell_type": "markdown",
   "metadata": {},
   "source": [
    "Methods in JacobianProduct Class:\n",
    "\n",
    "```JacobianProduct.partial_ders(self, wrt, inputs, fun_idx=-1)```\n",
    "skdjfs\n",
    "\n",
    "```JacobianProduct.partial_vals(self, wrt, inputs, fun_idx=-1)```\n",
    "sdfssf\n",
    "\n",
    "```JacobianProduct.jacobian_product(self, inputs, fun_idx=-1)```\n",
    "Returns list of jacobian products\n"
   ]
  },
  {
   "cell_type": "code",
   "execution_count": null,
   "metadata": {},
   "outputs": [],
   "source": []
  }
 ],
 "metadata": {
  "kernelspec": {
   "display_name": "Python 3",
   "language": "python",
   "name": "python3"
  },
  "language_info": {
   "codemirror_mode": {
    "name": "ipython",
    "version": 3
   },
   "file_extension": ".py",
   "mimetype": "text/x-python",
   "name": "python",
   "nbconvert_exporter": "python",
   "pygments_lexer": "ipython3",
   "version": "3.7.3"
  }
 },
 "nbformat": 4,
 "nbformat_minor": 2
}
