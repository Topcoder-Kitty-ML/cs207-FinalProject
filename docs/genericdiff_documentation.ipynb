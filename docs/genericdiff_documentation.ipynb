{
 "cells": [
  {
   "cell_type": "markdown",
   "metadata": {},
   "source": [
    "# CS207 Systems Development Final Project: \n",
    "\n",
    "## Documentation for Automatic Differentiation package: genericdiff\n",
    "\n",
    "### TopCoderKitty-ML\n",
    "\n",
    "**Collaborators**: Tamilyn Chen, Kar-Tong Tan and Mark Lock\n",
    "\n",
    "<hr style=\"height:2pt\">"
   ]
  },
  {
   "cell_type": "markdown",
   "metadata": {},
   "source": [
    "The purpose of this documentation is to illustrate the various features that ```genericdiff``` provides. Please refer to our vignette for a more detailed guide, which include a more fleshed out version of what ```genericdiff``` does, instructions for how to install it, how to use the package, and examples for some of its methods.\n",
    "\n",
    "```genericdiff``` is a library that differentiates by using the forward mode of automatic differentiation, a set of techniques proves to be an important and effective method for numerically evaluating differential equations that are too difficult and complex to solve analytically.\n",
    "\n",
    "It contains the classes GenericDiff, JacobianProduct, as well as various elemental functions that inherit from GenericDiff."
   ]
  },
  {
   "cell_type": "code",
   "execution_count": 5,
   "metadata": {},
   "outputs": [],
   "source": [
    "from genericdiff import *"
   ]
  },
  {
   "cell_type": "markdown",
   "metadata": {},
   "source": [
    "These should be the user facing methods for single variate, multi variate, and multi function use cases."
   ]
  },
  {
   "cell_type": "markdown",
   "metadata": {},
   "source": [
    "#### Methods in JacobianProduct Class:\n",
    "\n",
    "```JacobianProduct.partial_ders(self, wrt, inputs, fun_idx=-1)```\n",
    "Returns the partial derivative with respect to a chosen variable\n",
    "\n",
    "Parameters:\n",
    "    \n",
    "    wrt: int \n",
    "        index of variable partial derivative is taken with respect to\n",
    "    \n",
    "    inputs: list\n",
    "        chosen input values for variables\n",
    "        \n",
    "    fun_idx: int\n",
    "        index of the functions in which partial derivative is applied. default is set to -1 get the index of all         functions\n",
    "\n",
    "```JacobianProduct.partial_vals(self, wrt, inputs, fun_idx=-1)```\n",
    "Returns the partial derivative values with respect to a chosen variable\n",
    "\n",
    "\n",
    "Parameters:\n",
    "    \n",
    "    wrt: int \n",
    "        index of variable partial derivative is taken with respect to\n",
    "    \n",
    "    inputs: list\n",
    "        chosen inputs for variables\n",
    "        \n",
    "    fun_idx: int\n",
    "    \n",
    "```JacobianProduct.jacobian_product(self, inputs, fun_idx=-1)```\n",
    "Returns list of jacobian products\n",
    "\n",
    "Parameters:\n",
    "\n",
    "    inputs: list\n",
    "        chosen inputs for variables\n",
    "        \n",
    "    fun_idx: int \n",
    "        index of the functions in which partial derivative is applied. default is set to -1 get the index of all         functions\n"
   ]
  },
  {
   "cell_type": "markdown",
   "metadata": {},
   "source": [
    "We've overloaded elemental functions such that a user can define these in their functions and they will be automatically converted to GenericDiff objects that get differentiated in the JacobianProduct class. For examples, see genericdiff_vignette.ipynb."
   ]
  },
  {
   "cell_type": "markdown",
   "metadata": {},
   "source": [
    "#### Elemental Functions\n",
    "\n",
    "1. sine    ```sin(x)```\n",
    "2. cosine  ```cos(x)```\n",
    "3. tangent ```tan(x)```\n",
    "4. $e^x$   ```exponential(x)```\n",
    "5. hyperbolic sine ```sinh(x)```\n",
    "6. hyperbolic cosine ```cosh(x)```\n",
    "7. hyperbolic tangent ```tanh(x)```\n",
    "8. arc sine  ```asin(x)```\n",
    "9. arc cosine ```acos(x)```\n",
    "10. arc tangent ```atan(x)```\n",
    "11. log ```log(x, base=e)``` numpy default base is e, but user can set any base they want\n",
    "12. logit ```logit(x)``` $\\frac{e^x}{1+e^x}$\n",
    "13. square root ```sqrt(x)``` $\\sqrt{x}$\n",
    "\n",
    "Parameters:\n",
    "    x: GenericDiff class or constant"
   ]
  },
  {
   "cell_type": "markdown",
   "metadata": {},
   "source": [
    "We've implemented overloading functions to take care of any differential operations done to our GenericDiff class. The user does not need to call on these explicitly."
   ]
  },
  {
   "cell_type": "markdown",
   "metadata": {},
   "source": [
    "#### Methods in GenericDiff Class:\n",
    "\n",
    "```GenericDiff.__add__(self, other)```\n",
    "\n",
    "Implements the binary arithmetic \"+\" operation\n",
    "\n",
    "Returns GenericDiff object with instances, addition value (self + other) and its derivative\n",
    "\n",
    "```GenericDiff.__radd__(self, other)```\n",
    "\n",
    "Implements the binary arithmetic \"+\" operation\n",
    "\n",
    "Returns GenericDiff object with instances, addition value (other + self) and its derivative\n",
    "\n",
    "```GenericDiff.__sub__(self, other)```\n",
    "\n",
    "Implements the binary arithmetic \"-\" operation\n",
    "\n",
    "Returns GenericDiff object with instances, subtraction value (self - other) and its derivative\n",
    "\n",
    "```GenericDiff.__rsub__(self, other)```\n",
    "\n",
    "Implements the binary arithmetic \"-\" operation\n",
    "\n",
    "Returns GenericDiff object with instances, subtraction value (other - self) and its derivative\n",
    "\n",
    "```GenericDiff.__mul__(self, other)```\n",
    "\n",
    "Implements the binary arithmetic \"*\" operation\n",
    "\n",
    "Returns GenericDiff object with instances, multiplication value (self * other) and its derivative\n",
    "\n",
    "```GenericDiff.__rmul__(self, other)```\n",
    "\n",
    "Implements the binary arithmetic \"*\" operation\n",
    "\n",
    "Returns GenericDiff object with instances, multiplication value (other * self) and its derivative\n",
    "\n",
    "```GenericDiff.__truediv__(self, other)```\n",
    "\n",
    "Implements the binary arithmetic \"/\" operation\n",
    "\n",
    "Returns GenericDiff object with instances, division value (self / other) and its derivative\n",
    "\n",
    "```GenericDiff.__rtruediv__(self, other)```\n",
    "\n",
    "Implements the binary arithmetic \"/\" operation\n",
    "\n",
    "Returns GenericDiff object with instances, division value (other / self) and its derivative\n",
    "\n",
    "```GenericDiff.__pow__(self, other)```\n",
    "\n",
    "Implements the binary arithmetic \"**\" operation\n",
    "\n",
    "Returns GenericDiff object with instances, power value (self ** other) and its derivative\n",
    "\n",
    "```GenericDiff.__rpow__(self, other)```\n",
    "\n",
    "Implements the binary arithmetic \"**\" operation\n",
    "\n",
    "Returns GenericDiff object with instances, power value (other ** self) and its derivative\n",
    "\n",
    "```GenericDiff.__neg__(self, other)```\n",
    "\n",
    "Implements the unary negation operation\n",
    "\n",
    "Returns GenericDiff object with instances, unary negation of value and derivative value\n",
    "\n",
    "```GenericDiff.__gt__(self, other)```\n",
    "Returns a Boolean stating whether one derivative value is greater than another derivative value.\n",
    "\n",
    "```GenericDiff.__lt__(self, other)```\n",
    "Returns a Boolean stating whether one derivative value is less than another derivative value.\n",
    "\n",
    "```GenericDiff.__le__(self, other)```\n",
    "Returns a Boolean stating whether one derivative value is less than or equal another derivative value.\n",
    "\n",
    "```GenericDiff.__ge__(self, other)```\n",
    "Returns a Boolean stating whether one derivative value is greater than or equal another derivative value.\n",
    "\n",
    "```GenericDiff.__ne__(self, other)```\n",
    "Returns a boolean stating whether two derivative values are not equal.\n",
    "\n",
    "```GenericDiff.__eq__(self, other)```\n",
    "Returns a boolean stating whether two derivative values are equal.\n",
    "\n",
    "Parameters:\n",
    "\n",
    "    other: GenericDiff class or constant"
   ]
  },
  {
   "cell_type": "code",
   "execution_count": null,
   "metadata": {},
   "outputs": [],
   "source": []
  }
 ],
 "metadata": {
  "kernelspec": {
   "display_name": "Python 3",
   "language": "python",
   "name": "python3"
  },
  "language_info": {
   "codemirror_mode": {
    "name": "ipython",
    "version": 3
   },
   "file_extension": ".py",
   "mimetype": "text/x-python",
   "name": "python",
   "nbconvert_exporter": "python",
   "pygments_lexer": "ipython3",
   "version": "3.7.3"
  }
 },
 "nbformat": 4,
 "nbformat_minor": 2
}
